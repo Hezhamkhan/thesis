{
 "cells": [
  {
   "cell_type": "code",
   "execution_count": 4,
   "metadata": {},
   "outputs": [],
   "source": [
    "from tensorflow.keras.models import Sequential\n",
    "# from tensorflow.keras_preprocessing.image import ImageDataGenerator\n",
    "from tensorflow.keras.preprocessing.image import ImageDataGenerator\n",
    "import pandas as pd\n",
    "import numpy as np"
   ]
  },
  {
   "cell_type": "code",
   "execution_count": 5,
   "metadata": {},
   "outputs": [
    {
     "data": {
      "application/javascript": [
       "IPython.notebook.kernel.execute('nb_name = \"' + IPython.notebook.notebook_name + '\"')"
      ],
      "text/plain": [
       "<IPython.core.display.Javascript object>"
      ]
     },
     "metadata": {},
     "output_type": "display_data"
    }
   ],
   "source": [
    "%%javascript\n",
    "IPython.notebook.kernel.execute('nb_name = \"' + IPython.notebook.notebook_name + '\"')"
   ]
  },
  {
   "cell_type": "code",
   "execution_count": 6,
   "metadata": {},
   "outputs": [
    {
     "name": "stdout",
     "output_type": "stream",
     "text": [
      "CNN2female\n"
     ]
    }
   ],
   "source": [
    "import os\n",
    "notebookname=os.path.splitext(nb_name)[0]\n",
    "genderindex = [0,0]\n",
    "print(notebookname)\n",
    "if notebookname.find('female'):\n",
    "    genderchar = 'F'\n",
    "    genderindex[0] = 0\n",
    "    genderindex[1] = 2\n",
    "elif notebookname.find('male'):\n",
    "    genderchar = 'M'\n",
    "    genderindex[0] = 0\n",
    "    genderindex[1] = 3\n",
    "else: \n",
    "    print('Error!!')"
   ]
  },
  {
   "cell_type": "code",
   "execution_count": 7,
   "metadata": {},
   "outputs": [
    {
     "data": {
      "text/plain": [
       "['0', '2']"
      ]
     },
     "execution_count": 7,
     "metadata": {},
     "output_type": "execute_result"
    }
   ],
   "source": [
    "[str(genderindex[0]), str(genderindex[1])]"
   ]
  },
  {
   "cell_type": "markdown",
   "metadata": {},
   "source": [
    "## read labels and filenames"
   ]
  },
  {
   "cell_type": "markdown",
   "metadata": {},
   "source": [
    "traindf[\"0\"] to [\"9\"] contains the PC values, \n",
    "traindf[\"name\"] contains the filenames"
   ]
  },
  {
   "cell_type": "code",
   "execution_count": 8,
   "metadata": {},
   "outputs": [],
   "source": [
    "traindf = pd.read_csv('labels/'+genderchar+'train_labels.csv') \n",
    "validdf = pd.read_csv('labels/'+genderchar+'val_labels.csv')\n",
    "testdf  = pd.read_csv('labels/'+genderchar+'test_labels.csv')"
   ]
  },
  {
   "cell_type": "code",
   "execution_count": 9,
   "metadata": {},
   "outputs": [
    {
     "data": {
      "text/plain": [
       "'SPRING1062_0001.jpg'"
      ]
     },
     "execution_count": 9,
     "metadata": {},
     "output_type": "execute_result"
    }
   ],
   "source": [
    "validdf['name'][1]"
   ]
  },
  {
   "cell_type": "markdown",
   "metadata": {},
   "source": [
    "## set up data generators \n"
   ]
  },
  {
   "cell_type": "code",
   "execution_count": 10,
   "metadata": {
    "scrolled": true
   },
   "outputs": [
    {
     "name": "stdout",
     "output_type": "stream",
     "text": [
      "Found 21210 validated image filenames.\n",
      "Found 6060 validated image filenames.\n",
      "Found 6060 validated image filenames.\n"
     ]
    }
   ],
   "source": [
    "datagen = ImageDataGenerator(\n",
    "    rescale=1./255,\n",
    "    #featurewise_center=True,\n",
    "    #featurewise_std_normalization=True,\n",
    "    #width_shift_range=0.2,\n",
    "    #height_shift_range=0.2,\n",
    "    #horizontal_flip=True\n",
    ")\n",
    "\n",
    "train_generator=datagen.flow_from_dataframe(\n",
    "    dataframe=traindf,\n",
    "    directory='dataset/'+genderchar+'train',\n",
    "    x_col='name',\n",
    "    y_col=[str(genderindex[0]), str(genderindex[1])],\n",
    "    batch_size=10,\n",
    "    seed=42,\n",
    "    shuffle=True,\n",
    "    class_mode='raw',\n",
    "    target_size=(224,448)\n",
    "    #color_mode=\"grayscale\"\n",
    ")\n",
    "\n",
    "valid_generator=datagen.flow_from_dataframe(\n",
    "    dataframe=validdf,\n",
    "    directory='dataset/'+genderchar+'val',\n",
    "    x_col='name',\n",
    "    y_col=[str(genderindex[0]), str(genderindex[1])],\n",
    "    batch_size=10,\n",
    "    seed=42,\n",
    "    shuffle=True,\n",
    "    class_mode='raw',\n",
    "    target_size=(224,448)\n",
    "    #color_mode=\"grayscale\"\n",
    ")\n",
    "\n",
    "test_generator=datagen.flow_from_dataframe(\n",
    "    dataframe=testdf,\n",
    "    directory='dataset/'+genderchar+'test',\n",
    "    x_col='name',\n",
    "    y_col=[str(genderindex[0]), str(genderindex[1])],\n",
    "    batch_size=10,\n",
    "    seed=42,\n",
    "    shuffle=False,\n",
    "    class_mode=None,\n",
    "    target_size=(224,448)\n",
    "    #color_mode=\"grayscale\"\n",
    ")"
   ]
  },
  {
   "cell_type": "code",
   "execution_count": 11,
   "metadata": {},
   "outputs": [],
   "source": [
    "STEP_SIZE_TRAIN=train_generator.n//train_generator.batch_size\n",
    "STEP_SIZE_VALID=valid_generator.n//valid_generator.batch_size\n",
    "STEP_SIZE_TEST = test_generator.n// test_generator.batch_size"
   ]
  },
  {
   "cell_type": "markdown",
   "metadata": {},
   "source": [
    "## set up CNN"
   ]
  },
  {
   "cell_type": "code",
   "execution_count": 13,
   "metadata": {},
   "outputs": [
    {
     "name": "stdout",
     "output_type": "stream",
     "text": [
      "Model: \"sequential\"\n",
      "_________________________________________________________________\n",
      "Layer (type)                 Output Shape              Param #   \n",
      "=================================================================\n",
      "inception_v3 (Model)         (None, 2048)              21802784  \n",
      "_________________________________________________________________\n",
      "dense (Dense)                (None, 2)                 4098      \n",
      "=================================================================\n",
      "Total params: 21,806,882\n",
      "Trainable params: 21,772,450\n",
      "Non-trainable params: 34,432\n",
      "_________________________________________________________________\n"
     ]
    }
   ],
   "source": [
    "import tensorflow as tf\n",
    "from tensorflow.keras.optimizers import Adam\n",
    "from tensorflow.keras import layers as L\n",
    "from tensorflow.keras.applications.resnet50 import ResNet50\n",
    "from tensorflow.keras.applications.inception_v3 import InceptionV3\n",
    "\n",
    "# uncomment for training resnet50\n",
    "#model_fn=ResNet50(include_top=False, input_shape=(448,224,3),pooling='avg')\n",
    "#for layer in model_fn.layers:\n",
    "#    layer.trainable = False\n",
    "\n",
    "# uncomment for training inceptionv3\n",
    "model_fn=InceptionV3(include_top=False, input_shape=(448,224,3),pooling='avg')\n",
    "#for layer in model_fn.layers:\n",
    "#    layer.trainable = False\n",
    "\n",
    "model=tf.keras.models.Sequential()\n",
    "model.add(model_fn)\n",
    "#model.add(L.Dense(256,activation='relu'))\n",
    "model.add(L.Dense(2,activation='linear'))\n",
    "model.summary()"
   ]
  },
  {
   "cell_type": "code",
   "execution_count": 14,
   "metadata": {},
   "outputs": [
    {
     "name": "stdout",
     "output_type": "stream",
     "text": [
      "WARNING:tensorflow:From <ipython-input-14-e9e0828763ca>:22: Model.fit_generator (from tensorflow.python.keras.engine.training) is deprecated and will be removed in a future version.\n",
      "Instructions for updating:\n",
      "Please use Model.fit, which supports generators.\n",
      "WARNING:tensorflow:sample_weight modes were coerced from\n",
      "  ...\n",
      "    to  \n",
      "  ['...']\n",
      "WARNING:tensorflow:sample_weight modes were coerced from\n",
      "  ...\n",
      "    to  \n",
      "  ['...']\n",
      "Train for 2121 steps, validate for 606 steps\n",
      "Epoch 1/50\n",
      "2120/2121 [============================>.] - ETA: 0s - loss: 2.1026 - mean_absolute_error: 1.0089\n",
      "Epoch 00001: val_loss improved from inf to 5.88728, saving model to models/checkpoint_CNN2female\n",
      "WARNING:tensorflow:From /home/eric/.local/lib/python3.6/site-packages/tensorflow_core/python/ops/resource_variable_ops.py:1786: calling BaseResourceVariable.__init__ (from tensorflow.python.ops.resource_variable_ops) with constraint is deprecated and will be removed in a future version.\n",
      "Instructions for updating:\n",
      "If using Keras pass *_constraint arguments to layers.\n",
      "INFO:tensorflow:Assets written to: models/checkpoint_CNN2female/assets\n",
      "2121/2121 [==============================] - 304s 144ms/step - loss: 2.1021 - mean_absolute_error: 1.0088 - val_loss: 5.8873 - val_mean_absolute_error: 2.1063\n",
      "Epoch 2/50\n",
      "2120/2121 [============================>.] - ETA: 0s - loss: 0.5612 - mean_absolute_error: 0.5764\n",
      "Epoch 00002: val_loss improved from 5.88728 to 0.91471, saving model to models/checkpoint_CNN2female\n",
      "INFO:tensorflow:Assets written to: models/checkpoint_CNN2female/assets\n",
      "2121/2121 [==============================] - 301s 142ms/step - loss: 0.5611 - mean_absolute_error: 0.5764 - val_loss: 0.9147 - val_mean_absolute_error: 0.7315\n",
      "Epoch 3/50\n",
      "2120/2121 [============================>.] - ETA: 0s - loss: 0.5869 - mean_absolute_error: 0.5699\n",
      "Epoch 00003: val_loss improved from 0.91471 to 0.89693, saving model to models/checkpoint_CNN2female\n",
      "INFO:tensorflow:Assets written to: models/checkpoint_CNN2female/assets\n",
      "2121/2121 [==============================] - 304s 143ms/step - loss: 0.5868 - mean_absolute_error: 0.5698 - val_loss: 0.8969 - val_mean_absolute_error: 0.7137\n",
      "Epoch 4/50\n",
      "2120/2121 [============================>.] - ETA: 0s - loss: 0.4140 - mean_absolute_error: 0.4815\n",
      "Epoch 00004: val_loss did not improve from 0.89693\n",
      "2121/2121 [==============================] - 266s 125ms/step - loss: 0.4139 - mean_absolute_error: 0.4814 - val_loss: 1.0384 - val_mean_absolute_error: 0.8308\n",
      "Epoch 5/50\n",
      "2120/2121 [============================>.] - ETA: 0s - loss: 0.2435 - mean_absolute_error: 0.3875\n",
      "Epoch 00005: val_loss did not improve from 0.89693\n",
      "2121/2121 [==============================] - 267s 126ms/step - loss: 0.2434 - mean_absolute_error: 0.3875 - val_loss: 1.0947 - val_mean_absolute_error: 0.7849\n",
      "Epoch 6/50\n",
      "2120/2121 [============================>.] - ETA: 0s - loss: 0.1908 - mean_absolute_error: 0.3385\n",
      "Epoch 00006: val_loss improved from 0.89693 to 0.76594, saving model to models/checkpoint_CNN2female\n",
      "INFO:tensorflow:Assets written to: models/checkpoint_CNN2female/assets\n",
      "2121/2121 [==============================] - 307s 145ms/step - loss: 0.1907 - mean_absolute_error: 0.3385 - val_loss: 0.7659 - val_mean_absolute_error: 0.6594\n",
      "Epoch 7/50\n",
      "2120/2121 [============================>.] - ETA: 0s - loss: 0.1475 - mean_absolute_error: 0.3009\n",
      "Epoch 00007: val_loss did not improve from 0.76594\n",
      "2121/2121 [==============================] - 267s 126ms/step - loss: 0.1475 - mean_absolute_error: 0.3010 - val_loss: 0.7772 - val_mean_absolute_error: 0.6875\n",
      "Epoch 8/50\n",
      "2120/2121 [============================>.] - ETA: 0s - loss: 0.1057 - mean_absolute_error: 0.2500\n",
      "Epoch 00008: val_loss improved from 0.76594 to 0.64435, saving model to models/checkpoint_CNN2female\n",
      "INFO:tensorflow:Assets written to: models/checkpoint_CNN2female/assets\n",
      "2121/2121 [==============================] - 308s 145ms/step - loss: 0.1056 - mean_absolute_error: 0.2499 - val_loss: 0.6444 - val_mean_absolute_error: 0.6047\n",
      "Epoch 9/50\n",
      "2120/2121 [============================>.] - ETA: 0s - loss: 0.0810 - mean_absolute_error: 0.2215\n",
      "Epoch 00009: val_loss did not improve from 0.64435\n",
      "2121/2121 [==============================] - 268s 127ms/step - loss: 0.0810 - mean_absolute_error: 0.2215 - val_loss: 0.6732 - val_mean_absolute_error: 0.6186\n",
      "Epoch 10/50\n",
      "2120/2121 [============================>.] - ETA: 0s - loss: 0.0613 - mean_absolute_error: 0.1933\n",
      "Epoch 00010: val_loss did not improve from 0.64435\n",
      "2121/2121 [==============================] - 268s 126ms/step - loss: 0.0613 - mean_absolute_error: 0.1933 - val_loss: 0.6713 - val_mean_absolute_error: 0.6004\n",
      "Epoch 11/50\n",
      "2120/2121 [============================>.] - ETA: 0s - loss: 0.0631 - mean_absolute_error: 0.1917\n",
      "Epoch 00011: val_loss improved from 0.64435 to 0.61704, saving model to models/checkpoint_CNN2female\n",
      "INFO:tensorflow:Assets written to: models/checkpoint_CNN2female/assets\n",
      "2121/2121 [==============================] - 305s 144ms/step - loss: 0.0631 - mean_absolute_error: 0.1917 - val_loss: 0.6170 - val_mean_absolute_error: 0.5896\n",
      "Epoch 12/50\n",
      "2120/2121 [============================>.] - ETA: 0s - loss: 0.0500 - mean_absolute_error: 0.1712\n",
      "Epoch 00012: val_loss did not improve from 0.61704\n",
      "2121/2121 [==============================] - 264s 125ms/step - loss: 0.0500 - mean_absolute_error: 0.1712 - val_loss: 0.6289 - val_mean_absolute_error: 0.5891\n",
      "Epoch 13/50\n",
      "2120/2121 [============================>.] - ETA: 0s - loss: 0.0421 - mean_absolute_error: 0.1587\n",
      "Epoch 00013: val_loss did not improve from 0.61704\n",
      "2121/2121 [==============================] - 266s 125ms/step - loss: 0.0421 - mean_absolute_error: 0.1587 - val_loss: 0.6729 - val_mean_absolute_error: 0.6186\n",
      "Epoch 14/50\n",
      "2120/2121 [============================>.] - ETA: 0s - loss: 0.0348 - mean_absolute_error: 0.1452\n",
      "Epoch 00014: val_loss did not improve from 0.61704\n",
      "2121/2121 [==============================] - 269s 127ms/step - loss: 0.0348 - mean_absolute_error: 0.1452 - val_loss: 0.6438 - val_mean_absolute_error: 0.6129\n",
      "Epoch 15/50\n",
      "2120/2121 [============================>.] - ETA: 0s - loss: 0.0330 - mean_absolute_error: 0.1409\n",
      "Epoch 00015: val_loss did not improve from 0.61704\n",
      "2121/2121 [==============================] - 269s 127ms/step - loss: 0.0330 - mean_absolute_error: 0.1409 - val_loss: 0.6372 - val_mean_absolute_error: 0.5831\n",
      "Epoch 16/50\n",
      "2120/2121 [============================>.] - ETA: 0s - loss: 0.0949 - mean_absolute_error: 0.1759\n",
      "Epoch 00016: val_loss did not improve from 0.61704\n",
      "2121/2121 [==============================] - 270s 127ms/step - loss: 0.0949 - mean_absolute_error: 0.1759 - val_loss: 0.6468 - val_mean_absolute_error: 0.6069\n",
      "Epoch 17/50\n",
      "2120/2121 [============================>.] - ETA: 0s - loss: 0.0415 - mean_absolute_error: 0.1569\n",
      "Epoch 00017: val_loss improved from 0.61704 to 0.60203, saving model to models/checkpoint_CNN2female\n",
      "INFO:tensorflow:Assets written to: models/checkpoint_CNN2female/assets\n",
      "2121/2121 [==============================] - 298s 141ms/step - loss: 0.0415 - mean_absolute_error: 0.1569 - val_loss: 0.6020 - val_mean_absolute_error: 0.5765\n",
      "Epoch 18/50\n",
      "2120/2121 [============================>.] - ETA: 0s - loss: 0.0207 - mean_absolute_error: 0.1128\n",
      "Epoch 00018: val_loss improved from 0.60203 to 0.59942, saving model to models/checkpoint_CNN2female\n",
      "INFO:tensorflow:Assets written to: models/checkpoint_CNN2female/assets\n",
      "2121/2121 [==============================] - 298s 141ms/step - loss: 0.0207 - mean_absolute_error: 0.1128 - val_loss: 0.5994 - val_mean_absolute_error: 0.5719\n",
      "Epoch 19/50\n",
      "2120/2121 [============================>.] - ETA: 0s - loss: 0.0124 - mean_absolute_error: 0.0873\n",
      "Epoch 00019: val_loss improved from 0.59942 to 0.59462, saving model to models/checkpoint_CNN2female\n",
      "INFO:tensorflow:Assets written to: models/checkpoint_CNN2female/assets\n",
      "2121/2121 [==============================] - 298s 141ms/step - loss: 0.0124 - mean_absolute_error: 0.0873 - val_loss: 0.5946 - val_mean_absolute_error: 0.5688\n",
      "Epoch 20/50\n",
      "2120/2121 [============================>.] - ETA: 0s - loss: 0.0082 - mean_absolute_error: 0.0715\n",
      "Epoch 00020: val_loss did not improve from 0.59462\n",
      "2121/2121 [==============================] - 258s 122ms/step - loss: 0.0082 - mean_absolute_error: 0.0715 - val_loss: 0.5997 - val_mean_absolute_error: 0.5724\n"
     ]
    },
    {
     "name": "stdout",
     "output_type": "stream",
     "text": [
      "Epoch 21/50\n",
      "2120/2121 [============================>.] - ETA: 0s - loss: 0.0061 - mean_absolute_error: 0.0616\n",
      "Epoch 00021: val_loss did not improve from 0.59462\n",
      "2121/2121 [==============================] - 253s 119ms/step - loss: 0.0061 - mean_absolute_error: 0.0616 - val_loss: 0.6020 - val_mean_absolute_error: 0.5717\n",
      "Epoch 22/50\n",
      "2120/2121 [============================>.] - ETA: 0s - loss: 0.0047 - mean_absolute_error: 0.0540\n",
      "Epoch 00022: val_loss did not improve from 0.59462\n",
      "2121/2121 [==============================] - 254s 120ms/step - loss: 0.0047 - mean_absolute_error: 0.0540 - val_loss: 0.6041 - val_mean_absolute_error: 0.5733\n",
      "Epoch 23/50\n",
      "2120/2121 [============================>.] - ETA: 0s - loss: 0.0038 - mean_absolute_error: 0.0484\n",
      "Epoch 00023: val_loss did not improve from 0.59462\n",
      "2121/2121 [==============================] - 254s 120ms/step - loss: 0.0038 - mean_absolute_error: 0.0484 - val_loss: 0.6057 - val_mean_absolute_error: 0.5745\n",
      "Epoch 24/50\n",
      "2120/2121 [============================>.] - ETA: 0s - loss: 0.0031 - mean_absolute_error: 0.0439\n",
      "Epoch 00024: val_loss did not improve from 0.59462\n",
      "2121/2121 [==============================] - 253s 119ms/step - loss: 0.0031 - mean_absolute_error: 0.0439 - val_loss: 0.6057 - val_mean_absolute_error: 0.5741\n",
      "Epoch 25/50\n",
      "2120/2121 [============================>.] - ETA: 0s - loss: 0.0018 - mean_absolute_error: 0.0334\n",
      "Epoch 00025: val_loss did not improve from 0.59462\n",
      "2121/2121 [==============================] - 253s 119ms/step - loss: 0.0018 - mean_absolute_error: 0.0333 - val_loss: 0.6052 - val_mean_absolute_error: 0.5731\n",
      "Epoch 26/50\n",
      "2120/2121 [============================>.] - ETA: 0s - loss: 0.0016 - mean_absolute_error: 0.0320\n",
      "Epoch 00026: val_loss did not improve from 0.59462\n",
      "2121/2121 [==============================] - 254s 120ms/step - loss: 0.0016 - mean_absolute_error: 0.0320 - val_loss: 0.6066 - val_mean_absolute_error: 0.5738\n",
      "Epoch 27/50\n",
      "2120/2121 [============================>.] - ETA: 0s - loss: 0.0016 - mean_absolute_error: 0.0312\n",
      "Epoch 00027: val_loss did not improve from 0.59462\n",
      "2121/2121 [==============================] - 254s 120ms/step - loss: 0.0016 - mean_absolute_error: 0.0312 - val_loss: 0.6063 - val_mean_absolute_error: 0.5730\n",
      "Epoch 28/50\n",
      "2120/2121 [============================>.] - ETA: 0s - loss: 0.0015 - mean_absolute_error: 0.0306\n",
      "Epoch 00028: val_loss did not improve from 0.59462\n",
      "2121/2121 [==============================] - 254s 120ms/step - loss: 0.0015 - mean_absolute_error: 0.0306 - val_loss: 0.6066 - val_mean_absolute_error: 0.5731\n",
      "Epoch 29/50\n",
      "2120/2121 [============================>.] - ETA: 0s - loss: 0.0014 - mean_absolute_error: 0.0300\n",
      "Epoch 00029: val_loss did not improve from 0.59462\n",
      "2121/2121 [==============================] - 253s 119ms/step - loss: 0.0014 - mean_absolute_error: 0.0300 - val_loss: 0.6056 - val_mean_absolute_error: 0.5729\n",
      "Epoch 30/50\n",
      "2120/2121 [============================>.] - ETA: 0s - loss: 0.0014 - mean_absolute_error: 0.0294\n",
      "Epoch 00030: val_loss did not improve from 0.59462\n",
      "2121/2121 [==============================] - 253s 119ms/step - loss: 0.0014 - mean_absolute_error: 0.0294 - val_loss: 0.6067 - val_mean_absolute_error: 0.5731\n",
      "Epoch 31/50\n",
      "2120/2121 [============================>.] - ETA: 0s - loss: 0.0013 - mean_absolute_error: 0.0289\n",
      "Epoch 00031: val_loss did not improve from 0.59462\n",
      "2121/2121 [==============================] - 253s 119ms/step - loss: 0.0013 - mean_absolute_error: 0.0290 - val_loss: 0.6058 - val_mean_absolute_error: 0.5726\n",
      "Epoch 32/50\n",
      "2120/2121 [============================>.] - ETA: 0s - loss: 0.0013 - mean_absolute_error: 0.0286\n",
      "Epoch 00032: val_loss did not improve from 0.59462\n",
      "2121/2121 [==============================] - 254s 120ms/step - loss: 0.0013 - mean_absolute_error: 0.0286 - val_loss: 0.6062 - val_mean_absolute_error: 0.5732\n",
      "Epoch 33/50\n",
      "2120/2121 [============================>.] - ETA: 0s - loss: 0.0013 - mean_absolute_error: 0.0280\n",
      "Epoch 00033: val_loss did not improve from 0.59462\n",
      "2121/2121 [==============================] - 253s 119ms/step - loss: 0.0013 - mean_absolute_error: 0.0280 - val_loss: 0.6051 - val_mean_absolute_error: 0.5728\n",
      "Epoch 34/50\n",
      "2120/2121 [============================>.] - ETA: 0s - loss: 0.0012 - mean_absolute_error: 0.0277\n",
      "Epoch 00034: val_loss did not improve from 0.59462\n",
      "2121/2121 [==============================] - 253s 119ms/step - loss: 0.0012 - mean_absolute_error: 0.0277 - val_loss: 0.6064 - val_mean_absolute_error: 0.5735\n",
      "Epoch 35/50\n",
      "2120/2121 [============================>.] - ETA: 0s - loss: 0.0012 - mean_absolute_error: 0.0272\n",
      "Epoch 00035: val_loss did not improve from 0.59462\n",
      "2121/2121 [==============================] - 254s 120ms/step - loss: 0.0012 - mean_absolute_error: 0.0272 - val_loss: 0.6064 - val_mean_absolute_error: 0.5731\n",
      "Epoch 36/50\n",
      "2120/2121 [============================>.] - ETA: 0s - loss: 0.0011 - mean_absolute_error: 0.0268\n",
      "Epoch 00036: val_loss did not improve from 0.59462\n",
      "2121/2121 [==============================] - 254s 120ms/step - loss: 0.0011 - mean_absolute_error: 0.0268 - val_loss: 0.6043 - val_mean_absolute_error: 0.5725\n",
      "Epoch 37/50\n",
      "2120/2121 [============================>.] - ETA: 0s - loss: 0.0011 - mean_absolute_error: 0.0264\n",
      "Epoch 00037: val_loss did not improve from 0.59462\n",
      "2121/2121 [==============================] - 253s 119ms/step - loss: 0.0011 - mean_absolute_error: 0.0264 - val_loss: 0.6055 - val_mean_absolute_error: 0.5726\n",
      "Epoch 38/50\n",
      "2120/2121 [============================>.] - ETA: 0s - loss: 0.0011 - mean_absolute_error: 0.0259\n",
      "Epoch 00038: val_loss did not improve from 0.59462\n",
      "2121/2121 [==============================] - 253s 119ms/step - loss: 0.0011 - mean_absolute_error: 0.0259 - val_loss: 0.6066 - val_mean_absolute_error: 0.5734\n",
      "Epoch 39/50\n",
      "2120/2121 [============================>.] - ETA: 0s - loss: 0.0010 - mean_absolute_error: 0.0256\n",
      "Epoch 00039: val_loss did not improve from 0.59462\n",
      "2121/2121 [==============================] - 254s 120ms/step - loss: 0.0010 - mean_absolute_error: 0.0256 - val_loss: 0.6059 - val_mean_absolute_error: 0.5728\n",
      "Epoch 00039: early stopping\n"
     ]
    }
   ],
   "source": [
    "from tensorflow.keras.callbacks import ReduceLROnPlateau,ModelCheckpoint,EarlyStopping\n",
    "\n",
    "rlr=ReduceLROnPlateau(monitor='val_loss', factor=0.1,\n",
    "                              patience=5, min_lr=0.00001, min_delta=0.001)\n",
    "ckpt=ModelCheckpoint('models/checkpoint_'+notebookname, monitor='val_loss', verbose=1, save_best_only=True, mode='min')\n",
    "es=EarlyStopping(monitor='val_loss', mode='min', verbose=1, patience=20, min_delta=0.0001)\n",
    "\n",
    "model.compile(optimizer=Adam(lr=0.001),\n",
    "                loss='mean_squared_error',\n",
    "                metrics=['mean_absolute_error'])\n",
    "\n",
    "# model fit call for all data\n",
    "# history=model.fit(train, train_label, batch_size=32,\n",
    "#                     steps_per_epoch=len(train) / 32, epochs=50)\n",
    "\n",
    "history=model.fit_generator(generator=train_generator,\n",
    "                           steps_per_epoch=STEP_SIZE_TRAIN,\n",
    "                           validation_data=valid_generator,\n",
    "                           validation_steps=STEP_SIZE_VALID,\n",
    "                           validation_freq=1,\n",
    "                           epochs=50,\n",
    "                           callbacks=[rlr,ckpt,es])\n",
    "# model fit call with validation\n",
    "#history=model.fit(X_train, y_train,validation_data=(X_val,y_val), batch_size=64,\n",
    "#                    steps_per_epoch=len(X_train) / 64,validation_steps=len(X_val)/64, epochs=50,callbacks=[rlr,ckpt,es])\n",
    "\n",
    "# save weights\n",
    "model.save_weights('models/'+notebookname+'.h5')\n",
    "\n"
   ]
  },
  {
   "cell_type": "code",
   "execution_count": 15,
   "metadata": {},
   "outputs": [
    {
     "name": "stdout",
     "output_type": "stream",
     "text": [
      "WARNING:tensorflow:From <ipython-input-15-e82515759ac2>:4: Model.predict_generator (from tensorflow.python.keras.engine.training) is deprecated and will be removed in a future version.\n",
      "Instructions for updating:\n",
      "Please use Model.predict, which supports generators.\n",
      "606/606 [==============================] - 21s 35ms/step\n"
     ]
    }
   ],
   "source": [
    "test_generator.reset()\n",
    "predictions=model.predict_generator(test_generator,\n",
    "                                    steps=STEP_SIZE_TEST,\n",
    "                                    verbose = 1)\n",
    "data = {'T1': testdf[str(genderindex[0])],\n",
    "        'T2': testdf[str(genderindex[1])],\n",
    "        'P1': predictions[:,0],\n",
    "        'P2': predictions[:,1]}\n",
    "df = pd.DataFrame(data)\n",
    "\n",
    "import csv\n",
    "\n",
    "df.to_csv('results/test_results_'+notebookname+'.csv')\n"
   ]
  },
  {
   "cell_type": "code",
   "execution_count": 16,
   "metadata": {},
   "outputs": [
    {
     "data": {
      "image/png": "[encoded data removed]",
      "text/plain": [
       "<Figure size 432x288 with 1 Axes>"
      ]
     },
     "metadata": {
      "needs_background": "light"
     },
     "output_type": "display_data"
    }
   ],
   "source": [
    "%matplotlib inline\n",
    "import matplotlib.pyplot as plt\n",
    "plt.plot(history.history['loss'])\n",
    "plt.plot(history.history['val_loss'])\n",
    "plt.title('Model accuracy'+notebookname)\n",
    "plt.ylabel('Accuracy')\n",
    "plt.xlabel('Epoch')\n",
    "plt.legend(['Train', 'Validation'], loc='upper right')\n",
    "plt.show()"
   ]
  },
  {
   "cell_type": "code",
   "execution_count": null,
   "metadata": {},
   "outputs": [],
   "source": []
  }
 ],
 "metadata": {
  "kernelspec": {
   "display_name": "Python 3",
   "language": "python",
   "name": "python3"
  },
  "language_info": {
   "codemirror_mode": {
    "name": "ipython",
    "version": 3
   },
   "file_extension": ".py",
   "mimetype": "text/x-python",
   "name": "python",
   "nbconvert_exporter": "python",
   "pygments_lexer": "ipython3",
   "version": "3.6.9"
  }
 },
 "nbformat": 4,
 "nbformat_minor": 4
}
