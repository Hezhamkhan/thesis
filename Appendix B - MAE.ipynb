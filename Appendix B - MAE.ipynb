{
 "cells": [
  {
   "cell_type": "markdown",
   "metadata": {},
   "source": [
    "**Results of testing CNN1 and CNN2**"
   ]
  },
  {
   "cell_type": "code",
   "execution_count": 43,
   "metadata": {},
   "outputs": [],
   "source": [
    "import pandas as pd"
   ]
  },
  {
   "cell_type": "code",
   "execution_count": 44,
   "metadata": {},
   "outputs": [],
   "source": [
    "from sklearn.metrics import mean_absolute_error"
   ]
  },
  {
   "cell_type": "markdown",
   "metadata": {},
   "source": [
    "**Resnet Results - CNN1**"
   ]
  },
  {
   "cell_type": "code",
   "execution_count": 45,
   "metadata": {},
   "outputs": [],
   "source": [
    "female1=pd.read_csv(\"test_results_CNN1female.csv\")"
   ]
  },
  {
   "cell_type": "code",
   "execution_count": 46,
   "metadata": {},
   "outputs": [
    {
     "data": {
      "text/html": [
       "<div>\n",
       "<style scoped>\n",
       "    .dataframe tbody tr th:only-of-type {\n",
       "        vertical-align: middle;\n",
       "    }\n",
       "\n",
       "    .dataframe tbody tr th {\n",
       "        vertical-align: top;\n",
       "    }\n",
       "\n",
       "    .dataframe thead th {\n",
       "        text-align: right;\n",
       "    }\n",
       "</style>\n",
       "<table border=\"1\" class=\"dataframe\">\n",
       "  <thead>\n",
       "    <tr style=\"text-align: right;\">\n",
       "      <th></th>\n",
       "      <th>Unnamed: 0</th>\n",
       "      <th>T1</th>\n",
       "      <th>T2</th>\n",
       "      <th>P1</th>\n",
       "      <th>P2</th>\n",
       "    </tr>\n",
       "  </thead>\n",
       "  <tbody>\n",
       "    <tr>\n",
       "      <td>count</td>\n",
       "      <td>6060.000000</td>\n",
       "      <td>6060.000000</td>\n",
       "      <td>6060.000000</td>\n",
       "      <td>6060.000000</td>\n",
       "      <td>6060.000000</td>\n",
       "    </tr>\n",
       "    <tr>\n",
       "      <td>mean</td>\n",
       "      <td>3029.500000</td>\n",
       "      <td>1.109148</td>\n",
       "      <td>0.044213</td>\n",
       "      <td>0.885939</td>\n",
       "      <td>-0.057068</td>\n",
       "    </tr>\n",
       "    <tr>\n",
       "      <td>std</td>\n",
       "      <td>1749.515647</td>\n",
       "      <td>5.012316</td>\n",
       "      <td>1.399110</td>\n",
       "      <td>4.869623</td>\n",
       "      <td>1.152601</td>\n",
       "    </tr>\n",
       "    <tr>\n",
       "      <td>min</td>\n",
       "      <td>0.000000</td>\n",
       "      <td>-9.365800</td>\n",
       "      <td>-3.521900</td>\n",
       "      <td>-8.705973</td>\n",
       "      <td>-3.488693</td>\n",
       "    </tr>\n",
       "    <tr>\n",
       "      <td>25%</td>\n",
       "      <td>1514.750000</td>\n",
       "      <td>-2.793500</td>\n",
       "      <td>-0.872025</td>\n",
       "      <td>-2.802701</td>\n",
       "      <td>-0.757307</td>\n",
       "    </tr>\n",
       "    <tr>\n",
       "      <td>50%</td>\n",
       "      <td>3029.500000</td>\n",
       "      <td>0.289550</td>\n",
       "      <td>0.244450</td>\n",
       "      <td>-0.082659</td>\n",
       "      <td>0.028250</td>\n",
       "    </tr>\n",
       "    <tr>\n",
       "      <td>75%</td>\n",
       "      <td>4544.250000</td>\n",
       "      <td>4.763975</td>\n",
       "      <td>0.865925</td>\n",
       "      <td>4.364919</td>\n",
       "      <td>0.728094</td>\n",
       "    </tr>\n",
       "    <tr>\n",
       "      <td>max</td>\n",
       "      <td>6059.000000</td>\n",
       "      <td>19.225600</td>\n",
       "      <td>2.829000</td>\n",
       "      <td>20.782015</td>\n",
       "      <td>2.651280</td>\n",
       "    </tr>\n",
       "  </tbody>\n",
       "</table>\n",
       "</div>"
      ],
      "text/plain": [
       "        Unnamed: 0           T1           T2           P1           P2\n",
       "count  6060.000000  6060.000000  6060.000000  6060.000000  6060.000000\n",
       "mean   3029.500000     1.109148     0.044213     0.885939    -0.057068\n",
       "std    1749.515647     5.012316     1.399110     4.869623     1.152601\n",
       "min       0.000000    -9.365800    -3.521900    -8.705973    -3.488693\n",
       "25%    1514.750000    -2.793500    -0.872025    -2.802701    -0.757307\n",
       "50%    3029.500000     0.289550     0.244450    -0.082659     0.028250\n",
       "75%    4544.250000     4.763975     0.865925     4.364919     0.728094\n",
       "max    6059.000000    19.225600     2.829000    20.782015     2.651280"
      ]
     },
     "execution_count": 46,
     "metadata": {},
     "output_type": "execute_result"
    }
   ],
   "source": [
    "female1.describe()"
   ]
  },
  {
   "cell_type": "code",
   "execution_count": 50,
   "metadata": {},
   "outputs": [],
   "source": [
    "y_true1=(73.23/(5.012316))*female1[\"T1\"]+1639.66"
   ]
  },
  {
   "cell_type": "code",
   "execution_count": 51,
   "metadata": {},
   "outputs": [],
   "source": [
    "y_pred1=(73.23/(5.012316))*female1[\"P1\"]+1639.66"
   ]
  },
  {
   "cell_type": "code",
   "execution_count": 65,
   "metadata": {},
   "outputs": [
    {
     "name": "stdout",
     "output_type": "stream",
     "text": [
      "MAE of female testing for stature is  12.236 Millimeters\n"
     ]
    }
   ],
   "source": [
    "print(\"MAE of female testing for stature is \", round(mean_absolute_error(y_true1, y_pred1),3),\"Millimeters\")\n"
   ]
  },
  {
   "cell_type": "markdown",
   "metadata": {},
   "source": [
    "Calculate waist circumference"
   ]
  },
  {
   "cell_type": "code",
   "execution_count": 140,
   "metadata": {},
   "outputs": [
    {
     "data": {
      "text/plain": [
       "count    6060.000000\n",
       "mean        0.277801\n",
       "std         8.790869\n",
       "min       -22.128750\n",
       "25%        -5.479095\n",
       "50%         1.535925\n",
       "75%         5.440767\n",
       "max        17.775131\n",
       "Name: T2, dtype: float64"
      ]
     },
     "execution_count": 140,
     "metadata": {},
     "output_type": "execute_result"
    }
   ],
   "source": [
    "import math\n",
    "waist_true=2*math.pi*female1[\"T2\"]\n",
    "waist_pred=2*math.pi*female1[\"P2\"]\n",
    "waist_true.describe()"
   ]
  },
  {
   "cell_type": "code",
   "execution_count": 141,
   "metadata": {},
   "outputs": [],
   "source": [
    "w_true1=(134.89/(8.790869))*waist_true+788.96\n",
    "w_pred1=(134.89/(8.790869))*waist_pred+788.96"
   ]
  },
  {
   "cell_type": "code",
   "execution_count": 142,
   "metadata": {},
   "outputs": [
    {
     "name": "stdout",
     "output_type": "stream",
     "text": [
      "MAE of female testing for waist in females is  75.61980108737485 Millimeters\n"
     ]
    }
   ],
   "source": [
    "print(\"MAE of female testing for waist in females is \", mean_absolute_error(w_true1, w_pred1),\"Millimeters\")\n"
   ]
  },
  {
   "cell_type": "code",
   "execution_count": 20,
   "metadata": {},
   "outputs": [],
   "source": [
    "male1=pd.read_csv(\"test_results_CNN1male.csv\")"
   ]
  },
  {
   "cell_type": "code",
   "execution_count": 28,
   "metadata": {},
   "outputs": [],
   "source": [
    "y_true2=(79.2/(5.220822))*male1[\"T1\"]+1777.6"
   ]
  },
  {
   "cell_type": "code",
   "execution_count": 29,
   "metadata": {},
   "outputs": [],
   "source": [
    "y_pred2=(79.2/(5.220822))*male1[\"P1\"]+1777.6"
   ]
  },
  {
   "cell_type": "code",
   "execution_count": 30,
   "metadata": {},
   "outputs": [
    {
     "name": "stdout",
     "output_type": "stream",
     "text": [
      "MAE of male testing for stature is  7.827471102833943 Millimeters\n"
     ]
    }
   ],
   "source": [
    "print(\"MAE of male testing for stature is \", mean_absolute_error(y_true2, y_pred2),\"Millimeters\")"
   ]
  },
  {
   "cell_type": "code",
   "execution_count": 143,
   "metadata": {},
   "outputs": [
    {
     "data": {
      "text/plain": [
       "count    6060.000000\n",
       "mean       -4.168244\n",
       "std         8.474399\n",
       "min       -25.680635\n",
       "25%        -9.785747\n",
       "50%        -3.610632\n",
       "75%         2.395307\n",
       "max        14.044176\n",
       "Name: T2, dtype: float64"
      ]
     },
     "execution_count": 143,
     "metadata": {},
     "output_type": "execute_result"
    }
   ],
   "source": [
    "waist_true2=2*math.pi*male1[\"T2\"]\n",
    "waist_pred2=2*math.pi*male1[\"P2\"]\n",
    "waist_true2.describe()"
   ]
  },
  {
   "cell_type": "code",
   "execution_count": 144,
   "metadata": {},
   "outputs": [
    {
     "name": "stdout",
     "output_type": "stream",
     "text": [
      "MAE of male testing for waist in males is  44.313061298338475 Millimeters\n"
     ]
    }
   ],
   "source": [
    "w_true2=(124.63/(8.474399))*waist_true2+914.19\n",
    "w_pred2=(124.63/(8.474399))*waist_pred2+914.19\n",
    "print(\"MAE of male testing for waist in males is \", mean_absolute_error(w_true2, w_pred2),\"Millimeters\")"
   ]
  },
  {
   "cell_type": "markdown",
   "metadata": {},
   "source": [
    "**Inception results - CNN2**"
   ]
  },
  {
   "cell_type": "code",
   "execution_count": 31,
   "metadata": {},
   "outputs": [],
   "source": [
    "female2=pd.read_csv(\"test_results_CNN2female.csv\")"
   ]
  },
  {
   "cell_type": "code",
   "execution_count": 58,
   "metadata": {},
   "outputs": [],
   "source": [
    "y_true3=(73.23/(5.012316))*female2[\"T1\"]+1639.66\n",
    "y_pred3=(73.23/(5.012316))*female2[\"P1\"]+1639.66"
   ]
  },
  {
   "cell_type": "code",
   "execution_count": 59,
   "metadata": {},
   "outputs": [
    {
     "name": "stdout",
     "output_type": "stream",
     "text": [
      "MAE of female testing for stature is  11.198106605450088 Millimeters\n"
     ]
    }
   ],
   "source": [
    "print(\"MAE of female testing for stature is \", mean_absolute_error(y_true3, y_pred3),\"Millimeters\")"
   ]
  },
  {
   "cell_type": "code",
   "execution_count": 34,
   "metadata": {},
   "outputs": [],
   "source": [
    "male2=pd.read_csv(\"test_results_CNN2male.csv\")\n",
    "y_true4=(79.2/(5.220822))*male2[\"T1\"]+1777.6\n",
    "y_pred4=(79.2/(5.220822))*male2[\"P1\"]+1777.6"
   ]
  },
  {
   "cell_type": "code",
   "execution_count": 35,
   "metadata": {},
   "outputs": [
    {
     "name": "stdout",
     "output_type": "stream",
     "text": [
      "MAE of male testing for stature is  7.0392654022641885 Millimeters\n"
     ]
    }
   ],
   "source": [
    "print(\"MAE of male testing for stature is \", mean_absolute_error(y_true4, y_pred4),\"Millimeters\")"
   ]
  },
  {
   "cell_type": "code",
   "execution_count": 145,
   "metadata": {},
   "outputs": [
    {
     "data": {
      "text/plain": [
       "count    6060.000000\n",
       "mean        0.277801\n",
       "std         8.790869\n",
       "min       -22.128750\n",
       "25%        -5.479095\n",
       "50%         1.535925\n",
       "75%         5.440767\n",
       "max        17.775131\n",
       "Name: T2, dtype: float64"
      ]
     },
     "execution_count": 145,
     "metadata": {},
     "output_type": "execute_result"
    }
   ],
   "source": [
    "waist_true3=2*math.pi*female2[\"T2\"]\n",
    "waist_pred3=2*math.pi*female2[\"P2\"]\n",
    "waist_true.describe()"
   ]
  },
  {
   "cell_type": "code",
   "execution_count": 146,
   "metadata": {},
   "outputs": [
    {
     "name": "stdout",
     "output_type": "stream",
     "text": [
      "MAE of female testing for waist in males is  72.86931645276935 Millimeters\n"
     ]
    }
   ],
   "source": [
    "w_true3=(134.89/(8.790869))*waist_true3+788.96\n",
    "w_pred3=(134.89/(8.790869))*waist_pred3+788.96\n",
    "print(\"MAE of female testing for waist in males is \", mean_absolute_error(w_true3, w_pred3),\"Millimeters\")"
   ]
  },
  {
   "cell_type": "code",
   "execution_count": 147,
   "metadata": {},
   "outputs": [
    {
     "data": {
      "text/plain": [
       "count    6060.000000\n",
       "mean       -4.168244\n",
       "std         8.474399\n",
       "min       -25.680635\n",
       "25%        -9.785747\n",
       "50%        -3.610632\n",
       "75%         2.395307\n",
       "max        14.044176\n",
       "Name: T2, dtype: float64"
      ]
     },
     "execution_count": 147,
     "metadata": {},
     "output_type": "execute_result"
    }
   ],
   "source": [
    "waist_true4=2*math.pi*male2[\"T2\"]\n",
    "waist_pred4=2*math.pi*male2[\"P2\"]\n",
    "waist_true4.describe()"
   ]
  },
  {
   "cell_type": "code",
   "execution_count": 148,
   "metadata": {},
   "outputs": [
    {
     "name": "stdout",
     "output_type": "stream",
     "text": [
      "MAE of male testing for waist in males is  44.054837269575714 Millimeters\n"
     ]
    }
   ],
   "source": [
    "w_true4=(124.63/(8.474399))*waist_true4+914.19\n",
    "w_pred4=(124.63/(8.474399))*waist_pred4+914.19\n",
    "print(\"MAE of male testing for waist in males is \", mean_absolute_error(w_true4, w_pred4),\"Millimeters\")"
   ]
  },
  {
   "cell_type": "markdown",
   "metadata": {},
   "source": [
    "**checking to see if waist prediction is better on frontal images**"
   ]
  },
  {
   "cell_type": "code",
   "execution_count": 150,
   "metadata": {},
   "outputs": [],
   "source": [
    "lista1=list(range(1,6000,100))\n",
    "lista2=list(range(49,6000,100))\n",
    "lista5=[]\n",
    "g=0\n",
    "for i in lista1:\n",
    "    v=i+g\n",
    "    g+=1\n",
    "    lista5.append(v)\n",
    "lista6=[]\n",
    "h=1\n",
    "for i in lista2:\n",
    "    r=i+h\n",
    "    h+=1\n",
    "    lista6.append(r)\n",
    "    \n",
    "lista7=lista5+lista6\n"
   ]
  },
  {
   "cell_type": "code",
   "execution_count": 151,
   "metadata": {},
   "outputs": [],
   "source": [
    "final=female1.iloc[lista7]"
   ]
  },
  {
   "cell_type": "code",
   "execution_count": 152,
   "metadata": {},
   "outputs": [
    {
     "data": {
      "text/plain": [
       "count    6060.000000\n",
       "mean        0.277801\n",
       "std         8.790869\n",
       "min       -22.128750\n",
       "25%        -5.479095\n",
       "50%         1.535925\n",
       "75%         5.440767\n",
       "max        17.775131\n",
       "Name: T2, dtype: float64"
      ]
     },
     "execution_count": 152,
     "metadata": {},
     "output_type": "execute_result"
    }
   ],
   "source": [
    "waist_true5=2*math.pi*final[\"T2\"]\n",
    "waist_pred5=2*math.pi*final[\"P2\"]\n",
    "waist_true.describe()"
   ]
  },
  {
   "cell_type": "code",
   "execution_count": 153,
   "metadata": {},
   "outputs": [
    {
     "name": "stdout",
     "output_type": "stream",
     "text": [
      "MAE of female testing for waist in females is  75.83407578227947 Millimeters\n"
     ]
    }
   ],
   "source": [
    "w_true5=(134.89/(8.790869))*waist_true5+788.96\n",
    "w_pred5=(134.89/(8.790869))*waist_pred5+788.96\n",
    "print(\"MAE of female testing for waist in females is \", mean_absolute_error(w_true5, w_pred5),\"Millimeters\")"
   ]
  },
  {
   "cell_type": "markdown",
   "metadata": {},
   "source": [
    "Answer is no, the prediction does not improve for back and frontal images "
   ]
  },
  {
   "cell_type": "code",
   "execution_count": null,
   "metadata": {},
   "outputs": [],
   "source": []
  }
 ],
 "metadata": {
  "colab": {
   "collapsed_sections": [],
   "name": "preprocess.ipynb",
   "provenance": []
  },
  "kernelspec": {
   "display_name": "Python 3",
   "language": "python",
   "name": "python3"
  },
  "language_info": {
   "codemirror_mode": {
    "name": "ipython",
    "version": 3
   },
   "file_extension": ".py",
   "mimetype": "text/x-python",
   "name": "python",
   "nbconvert_exporter": "python",
   "pygments_lexer": "ipython3",
   "version": "3.7.4"
  },
  "widgets": {
   "application/vnd.jupyter.widget-state+json": {
    "271cddfa5da741dcb8389aba47981e09": {
     "model_module": "@jupyter-widgets/controls",
     "model_name": "HBoxModel",
     "state": {
      "_dom_classes": [],
      "_model_module": "@jupyter-widgets/controls",
      "_model_module_version": "1.5.0",
      "_model_name": "HBoxModel",
      "_view_count": null,
      "_view_module": "@jupyter-widgets/controls",
      "_view_module_version": "1.5.0",
      "_view_name": "HBoxView",
      "box_style": "",
      "children": [
       "IPY_MODEL_ee7bfba9660d4ffab20276631c420f0b",
       "IPY_MODEL_80aa755fd69844c7be4215d686286211"
      ],
      "layout": "IPY_MODEL_8b21fbca9f6f4ec49f1a4847f843639f"
     }
    },
    "2eabecc75fb34d3aa38c985b2056b6e6": {
     "model_module": "@jupyter-widgets/controls",
     "model_name": "DescriptionStyleModel",
     "state": {
      "_model_module": "@jupyter-widgets/controls",
      "_model_module_version": "1.5.0",
      "_model_name": "DescriptionStyleModel",
      "_view_count": null,
      "_view_module": "@jupyter-widgets/base",
      "_view_module_version": "1.2.0",
      "_view_name": "StyleView",
      "description_width": ""
     }
    },
    "6849a5db180d4a89b91f8ab29b003487": {
     "model_module": "@jupyter-widgets/base",
     "model_name": "LayoutModel",
     "state": {
      "_model_module": "@jupyter-widgets/base",
      "_model_module_version": "1.2.0",
      "_model_name": "LayoutModel",
      "_view_count": null,
      "_view_module": "@jupyter-widgets/base",
      "_view_module_version": "1.2.0",
      "_view_name": "LayoutView",
      "align_content": null,
      "align_items": null,
      "align_self": null,
      "border": null,
      "bottom": null,
      "display": null,
      "flex": null,
      "flex_flow": null,
      "grid_area": null,
      "grid_auto_columns": null,
      "grid_auto_flow": null,
      "grid_auto_rows": null,
      "grid_column": null,
      "grid_gap": null,
      "grid_row": null,
      "grid_template_areas": null,
      "grid_template_columns": null,
      "grid_template_rows": null,
      "height": null,
      "justify_content": null,
      "justify_items": null,
      "left": null,
      "margin": null,
      "max_height": null,
      "max_width": null,
      "min_height": null,
      "min_width": null,
      "object_fit": null,
      "object_position": null,
      "order": null,
      "overflow": null,
      "overflow_x": null,
      "overflow_y": null,
      "padding": null,
      "right": null,
      "top": null,
      "visibility": null,
      "width": null
     }
    },
    "720c988d51814f3193b2aaf1ea01e6a4": {
     "model_module": "@jupyter-widgets/base",
     "model_name": "LayoutModel",
     "state": {
      "_model_module": "@jupyter-widgets/base",
      "_model_module_version": "1.2.0",
      "_model_name": "LayoutModel",
      "_view_count": null,
      "_view_module": "@jupyter-widgets/base",
      "_view_module_version": "1.2.0",
      "_view_name": "LayoutView",
      "align_content": null,
      "align_items": null,
      "align_self": null,
      "border": null,
      "bottom": null,
      "display": null,
      "flex": null,
      "flex_flow": null,
      "grid_area": null,
      "grid_auto_columns": null,
      "grid_auto_flow": null,
      "grid_auto_rows": null,
      "grid_column": null,
      "grid_gap": null,
      "grid_row": null,
      "grid_template_areas": null,
      "grid_template_columns": null,
      "grid_template_rows": null,
      "height": null,
      "justify_content": null,
      "justify_items": null,
      "left": null,
      "margin": null,
      "max_height": null,
      "max_width": null,
      "min_height": null,
      "min_width": null,
      "object_fit": null,
      "object_position": null,
      "order": null,
      "overflow": null,
      "overflow_x": null,
      "overflow_y": null,
      "padding": null,
      "right": null,
      "top": null,
      "visibility": null,
      "width": null
     }
    },
    "80aa755fd69844c7be4215d686286211": {
     "model_module": "@jupyter-widgets/controls",
     "model_name": "HTMLModel",
     "state": {
      "_dom_classes": [],
      "_model_module": "@jupyter-widgets/controls",
      "_model_module_version": "1.5.0",
      "_model_name": "HTMLModel",
      "_view_count": null,
      "_view_module": "@jupyter-widgets/controls",
      "_view_module_version": "1.5.0",
      "_view_name": "HTMLView",
      "description": "",
      "description_tooltip": null,
      "layout": "IPY_MODEL_6849a5db180d4a89b91f8ab29b003487",
      "placeholder": "​",
      "style": "IPY_MODEL_2eabecc75fb34d3aa38c985b2056b6e6",
      "value": " 40400/40400 [00:14&lt;00:00, 2716.23it/s]"
     }
    },
    "8b21fbca9f6f4ec49f1a4847f843639f": {
     "model_module": "@jupyter-widgets/base",
     "model_name": "LayoutModel",
     "state": {
      "_model_module": "@jupyter-widgets/base",
      "_model_module_version": "1.2.0",
      "_model_name": "LayoutModel",
      "_view_count": null,
      "_view_module": "@jupyter-widgets/base",
      "_view_module_version": "1.2.0",
      "_view_name": "LayoutView",
      "align_content": null,
      "align_items": null,
      "align_self": null,
      "border": null,
      "bottom": null,
      "display": null,
      "flex": null,
      "flex_flow": null,
      "grid_area": null,
      "grid_auto_columns": null,
      "grid_auto_flow": null,
      "grid_auto_rows": null,
      "grid_column": null,
      "grid_gap": null,
      "grid_row": null,
      "grid_template_areas": null,
      "grid_template_columns": null,
      "grid_template_rows": null,
      "height": null,
      "justify_content": null,
      "justify_items": null,
      "left": null,
      "margin": null,
      "max_height": null,
      "max_width": null,
      "min_height": null,
      "min_width": null,
      "object_fit": null,
      "object_position": null,
      "order": null,
      "overflow": null,
      "overflow_x": null,
      "overflow_y": null,
      "padding": null,
      "right": null,
      "top": null,
      "visibility": null,
      "width": null
     }
    },
    "eac8d01963dc4cfe96c4a1aabb3cbee3": {
     "model_module": "@jupyter-widgets/controls",
     "model_name": "ProgressStyleModel",
     "state": {
      "_model_module": "@jupyter-widgets/controls",
      "_model_module_version": "1.5.0",
      "_model_name": "ProgressStyleModel",
      "_view_count": null,
      "_view_module": "@jupyter-widgets/base",
      "_view_module_version": "1.2.0",
      "_view_name": "StyleView",
      "bar_color": null,
      "description_width": "initial"
     }
    },
    "ee7bfba9660d4ffab20276631c420f0b": {
     "model_module": "@jupyter-widgets/controls",
     "model_name": "IntProgressModel",
     "state": {
      "_dom_classes": [],
      "_model_module": "@jupyter-widgets/controls",
      "_model_module_version": "1.5.0",
      "_model_name": "IntProgressModel",
      "_view_count": null,
      "_view_module": "@jupyter-widgets/controls",
      "_view_module_version": "1.5.0",
      "_view_name": "ProgressView",
      "bar_style": "success",
      "description": "100%",
      "description_tooltip": null,
      "layout": "IPY_MODEL_720c988d51814f3193b2aaf1ea01e6a4",
      "max": 40400,
      "min": 0,
      "orientation": "horizontal",
      "style": "IPY_MODEL_eac8d01963dc4cfe96c4a1aabb3cbee3",
      "value": 40400
     }
    }
   }
  }
 },
 "nbformat": 4,
 "nbformat_minor": 1
}
