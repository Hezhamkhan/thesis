{
 "cells": [
  {
   "cell_type": "code",
   "execution_count": 7,
   "metadata": {},
   "outputs": [],
   "source": [
    "from tensorflow.keras.models import Sequential\n",
    "# from tensorflow.keras_preprocessing.image import ImageDataGenerator\n",
    "from tensorflow.keras.preprocessing.image import ImageDataGenerator\n",
    "import pandas as pd\n",
    "import numpy as np"
   ]
  },
  {
   "cell_type": "code",
   "execution_count": 8,
   "metadata": {},
   "outputs": [
    {
     "data": {
      "application/javascript": [
       "IPython.notebook.kernel.execute('nb_name = \"' + IPython.notebook.notebook_name + '\"')"
      ],
      "text/plain": [
       "<IPython.core.display.Javascript object>"
      ]
     },
     "metadata": {},
     "output_type": "display_data"
    }
   ],
   "source": [
    "%%javascript\n",
    "IPython.notebook.kernel.execute('nb_name = \"' + IPython.notebook.notebook_name + '\"')"
   ]
  },
  {
   "cell_type": "code",
   "execution_count": 9,
   "metadata": {},
   "outputs": [
    {
     "name": "stdout",
     "output_type": "stream",
     "text": [
      "CNN2male\n"
     ]
    }
   ],
   "source": [
    "import os\n",
    "notebookname=os.path.splitext(nb_name)[0]\n",
    "genderindex = [0,0]\n",
    "print(notebookname)\n",
    "if notebookname.find('female')>0:\n",
    "    genderchar = 'F'\n",
    "    genderindex[0] = 0\n",
    "    genderindex[1] = 2\n",
    "elif notebookname.find('male')>0:\n",
    "    genderchar = 'M'\n",
    "    genderindex[0] = 0\n",
    "    genderindex[1] = 3\n",
    "else: \n",
    "    print('Error!!')"
   ]
  },
  {
   "cell_type": "code",
   "execution_count": 10,
   "metadata": {},
   "outputs": [
    {
     "data": {
      "text/plain": [
       "['0', '3']"
      ]
     },
     "execution_count": 10,
     "metadata": {},
     "output_type": "execute_result"
    }
   ],
   "source": [
    "[str(genderindex[0]), str(genderindex[1])]"
   ]
  },
  {
   "cell_type": "markdown",
   "metadata": {},
   "source": [
    "## read labels and filenames"
   ]
  },
  {
   "cell_type": "markdown",
   "metadata": {},
   "source": [
    "traindf[\"0\"] to [\"9\"] contains the PC values, \n",
    "traindf[\"name\"] contains the filenames"
   ]
  },
  {
   "cell_type": "code",
   "execution_count": 11,
   "metadata": {},
   "outputs": [],
   "source": [
    "traindf = pd.read_csv('labels/'+genderchar+'train_labels.csv') \n",
    "validdf = pd.read_csv('labels/'+genderchar+'val_labels.csv')\n",
    "testdf  = pd.read_csv('labels/'+genderchar+'test_labels.csv')"
   ]
  },
  {
   "cell_type": "code",
   "execution_count": 12,
   "metadata": {},
   "outputs": [
    {
     "data": {
      "text/plain": [
       "'SPRING0653_0001.jpg'"
      ]
     },
     "execution_count": 12,
     "metadata": {},
     "output_type": "execute_result"
    }
   ],
   "source": [
    "validdf['name'][1]"
   ]
  },
  {
   "cell_type": "markdown",
   "metadata": {},
   "source": [
    "## set up data generators \n"
   ]
  },
  {
   "cell_type": "code",
   "execution_count": 13,
   "metadata": {
    "scrolled": true
   },
   "outputs": [
    {
     "name": "stdout",
     "output_type": "stream",
     "text": [
      "Found 21210 validated image filenames.\n",
      "Found 6060 validated image filenames.\n",
      "Found 6060 validated image filenames.\n"
     ]
    }
   ],
   "source": [
    "datagen = ImageDataGenerator(\n",
    "    rescale=1./255,\n",
    "    #featurewise_center=True,\n",
    "    #featurewise_std_normalization=True,\n",
    "    #width_shift_range=0.2,\n",
    "    #height_shift_range=0.2,\n",
    "    #horizontal_flip=True\n",
    ")\n",
    "\n",
    "train_generator=datagen.flow_from_dataframe(\n",
    "    dataframe=traindf,\n",
    "    directory='dataset/'+genderchar+'train',\n",
    "    x_col='name',\n",
    "    y_col=[str(genderindex[0]), str(genderindex[1])],\n",
    "    batch_size=10,\n",
    "    seed=42,\n",
    "    shuffle=True,\n",
    "    class_mode='raw',\n",
    "    target_size=(224,448)\n",
    "    #color_mode=\"grayscale\"\n",
    ")\n",
    "\n",
    "valid_generator=datagen.flow_from_dataframe(\n",
    "    dataframe=validdf,\n",
    "    directory='dataset/'+genderchar+'val',\n",
    "    x_col='name',\n",
    "    y_col=[str(genderindex[0]), str(genderindex[1])],\n",
    "    batch_size=10,\n",
    "    seed=42,\n",
    "    shuffle=True,\n",
    "    class_mode='raw',\n",
    "    target_size=(224,448)\n",
    "    #color_mode=\"grayscale\"\n",
    ")\n",
    "\n",
    "test_generator=datagen.flow_from_dataframe(\n",
    "    dataframe=testdf,\n",
    "    directory='dataset/'+genderchar+'test',\n",
    "    x_col='name',\n",
    "    y_col=[str(genderindex[0]), str(genderindex[1])],\n",
    "    batch_size=10,\n",
    "    seed=42,\n",
    "    shuffle=False,\n",
    "    class_mode=None,\n",
    "    target_size=(224,448)\n",
    "    #color_mode=\"grayscale\"\n",
    ")"
   ]
  },
  {
   "cell_type": "code",
   "execution_count": 14,
   "metadata": {},
   "outputs": [],
   "source": [
    "STEP_SIZE_TRAIN=train_generator.n//train_generator.batch_size\n",
    "STEP_SIZE_VALID=valid_generator.n//valid_generator.batch_size\n",
    "STEP_SIZE_TEST = test_generator.n// test_generator.batch_size"
   ]
  },
  {
   "cell_type": "markdown",
   "metadata": {},
   "source": [
    "## set up CNN"
   ]
  },
  {
   "cell_type": "code",
   "execution_count": 15,
   "metadata": {},
   "outputs": [
    {
     "name": "stdout",
     "output_type": "stream",
     "text": [
      "Model: \"sequential\"\n",
      "_________________________________________________________________\n",
      "Layer (type)                 Output Shape              Param #   \n",
      "=================================================================\n",
      "inception_v3 (Model)         (None, 2048)              21802784  \n",
      "_________________________________________________________________\n",
      "dense (Dense)                (None, 2)                 4098      \n",
      "=================================================================\n",
      "Total params: 21,806,882\n",
      "Trainable params: 21,772,450\n",
      "Non-trainable params: 34,432\n",
      "_________________________________________________________________\n"
     ]
    }
   ],
   "source": [
    "import tensorflow as tf\n",
    "from tensorflow.keras.optimizers import Adam\n",
    "from tensorflow.keras import layers as L\n",
    "from tensorflow.keras.applications.resnet50 import ResNet50\n",
    "from tensorflow.keras.applications.inception_v3 import InceptionV3\n",
    "\n",
    "# uncomment for training resnet50\n",
    "#model_fn=ResNet50(include_top=False, input_shape=(448,224,3),pooling='avg')\n",
    "#for layer in model_fn.layers:\n",
    "#    layer.trainable = False\n",
    "\n",
    "# uncomment for training inceptionv3\n",
    "model_fn=InceptionV3(include_top=False, input_shape=(448,224,3),pooling='avg')\n",
    "#for layer in model_fn.layers:\n",
    "#    layer.trainable = False\n",
    "\n",
    "model=tf.keras.models.Sequential()\n",
    "model.add(model_fn)\n",
    "#model.add(L.Dense(256,activation='relu'))\n",
    "model.add(L.Dense(2,activation='linear'))\n",
    "model.summary()"
   ]
  },
  {
   "cell_type": "code",
   "execution_count": 16,
   "metadata": {},
   "outputs": [
    {
     "name": "stdout",
     "output_type": "stream",
     "text": [
      "WARNING:tensorflow:From <ipython-input-16-e9e0828763ca>:22: Model.fit_generator (from tensorflow.python.keras.engine.training) is deprecated and will be removed in a future version.\n",
      "Instructions for updating:\n",
      "Please use Model.fit, which supports generators.\n",
      "WARNING:tensorflow:sample_weight modes were coerced from\n",
      "  ...\n",
      "    to  \n",
      "  ['...']\n",
      "WARNING:tensorflow:sample_weight modes were coerced from\n",
      "  ...\n",
      "    to  \n",
      "  ['...']\n",
      "Train for 2121 steps, validate for 606 steps\n",
      "Epoch 1/50\n",
      "2120/2121 [============================>.] - ETA: 0s - loss: 1.1127 - mean_absolute_error: 0.7377\n",
      "Epoch 00001: val_loss improved from inf to 0.88904, saving model to models/checkpoint_CNN2male\n",
      "WARNING:tensorflow:From /home/eric/.local/lib/python3.6/site-packages/tensorflow_core/python/ops/resource_variable_ops.py:1786: calling BaseResourceVariable.__init__ (from tensorflow.python.ops.resource_variable_ops) with constraint is deprecated and will be removed in a future version.\n",
      "Instructions for updating:\n",
      "If using Keras pass *_constraint arguments to layers.\n",
      "INFO:tensorflow:Assets written to: models/checkpoint_CNN2male/assets\n",
      "2121/2121 [==============================] - 305s 144ms/step - loss: 1.1123 - mean_absolute_error: 0.7375 - val_loss: 0.8890 - val_mean_absolute_error: 0.7021\n",
      "Epoch 2/50\n",
      "2120/2121 [============================>.] - ETA: 0s - loss: 0.3636 - mean_absolute_error: 0.4708\n",
      "Epoch 00002: val_loss improved from 0.88904 to 0.36166, saving model to models/checkpoint_CNN2male\n",
      "INFO:tensorflow:Assets written to: models/checkpoint_CNN2male/assets\n",
      "2121/2121 [==============================] - 299s 141ms/step - loss: 0.3635 - mean_absolute_error: 0.4707 - val_loss: 0.3617 - val_mean_absolute_error: 0.4927\n",
      "Epoch 3/50\n",
      "2120/2121 [============================>.] - ETA: 0s - loss: 0.2864 - mean_absolute_error: 0.4199\n",
      "Epoch 00003: val_loss did not improve from 0.36166\n",
      "2121/2121 [==============================] - 260s 123ms/step - loss: 0.2864 - mean_absolute_error: 0.4198 - val_loss: 0.9036 - val_mean_absolute_error: 0.7760\n",
      "Epoch 4/50\n",
      "2120/2121 [============================>.] - ETA: 0s - loss: 0.2174 - mean_absolute_error: 0.3661\n",
      "Epoch 00004: val_loss improved from 0.36166 to 0.33631, saving model to models/checkpoint_CNN2male\n",
      "INFO:tensorflow:Assets written to: models/checkpoint_CNN2male/assets\n",
      "2121/2121 [==============================] - 300s 142ms/step - loss: 0.2173 - mean_absolute_error: 0.3660 - val_loss: 0.3363 - val_mean_absolute_error: 0.4609\n",
      "Epoch 5/50\n",
      "2120/2121 [============================>.] - ETA: 0s - loss: 0.1627 - mean_absolute_error: 0.3162\n",
      "Epoch 00005: val_loss did not improve from 0.33631\n",
      "2121/2121 [==============================] - 261s 123ms/step - loss: 0.1627 - mean_absolute_error: 0.3162 - val_loss: 0.3916 - val_mean_absolute_error: 0.5180\n",
      "Epoch 6/50\n",
      "2120/2121 [============================>.] - ETA: 0s - loss: 0.1159 - mean_absolute_error: 0.2665\n",
      "Epoch 00006: val_loss did not improve from 0.33631\n",
      "2121/2121 [==============================] - 261s 123ms/step - loss: 0.1160 - mean_absolute_error: 0.2666 - val_loss: 0.3649 - val_mean_absolute_error: 0.4775\n",
      "Epoch 7/50\n",
      "2120/2121 [============================>.] - ETA: 0s - loss: 0.0880 - mean_absolute_error: 0.2314\n",
      "Epoch 00007: val_loss improved from 0.33631 to 0.32720, saving model to models/checkpoint_CNN2male\n",
      "INFO:tensorflow:Assets written to: models/checkpoint_CNN2male/assets\n",
      "2121/2121 [==============================] - 309s 146ms/step - loss: 0.0880 - mean_absolute_error: 0.2314 - val_loss: 0.3272 - val_mean_absolute_error: 0.4712\n",
      "Epoch 8/50\n",
      "2120/2121 [============================>.] - ETA: 0s - loss: 0.0676 - mean_absolute_error: 0.2039\n",
      "Epoch 00008: val_loss improved from 0.32720 to 0.24009, saving model to models/checkpoint_CNN2male\n",
      "INFO:tensorflow:Assets written to: models/checkpoint_CNN2male/assets\n",
      "2121/2121 [==============================] - 310s 146ms/step - loss: 0.0676 - mean_absolute_error: 0.2039 - val_loss: 0.2401 - val_mean_absolute_error: 0.3741\n",
      "Epoch 9/50\n",
      "2120/2121 [============================>.] - ETA: 0s - loss: 0.0556 - mean_absolute_error: 0.1834\n",
      "Epoch 00009: val_loss did not improve from 0.24009\n",
      "2121/2121 [==============================] - 269s 127ms/step - loss: 0.0556 - mean_absolute_error: 0.1834 - val_loss: 0.2458 - val_mean_absolute_error: 0.3884\n",
      "Epoch 10/50\n",
      "2120/2121 [============================>.] - ETA: 0s - loss: 0.0518 - mean_absolute_error: 0.1765\n",
      "Epoch 00010: val_loss did not improve from 0.24009\n",
      "2121/2121 [==============================] - 269s 127ms/step - loss: 0.0518 - mean_absolute_error: 0.1765 - val_loss: 0.2408 - val_mean_absolute_error: 0.3748\n",
      "Epoch 11/50\n",
      "2120/2121 [============================>.] - ETA: 0s - loss: 0.0390 - mean_absolute_error: 0.1538\n",
      "Epoch 00011: val_loss did not improve from 0.24009\n",
      "2121/2121 [==============================] - 269s 127ms/step - loss: 0.0390 - mean_absolute_error: 0.1538 - val_loss: 0.2824 - val_mean_absolute_error: 0.4016\n",
      "Epoch 12/50\n",
      "2120/2121 [============================>.] - ETA: 0s - loss: 0.0361 - mean_absolute_error: 0.1471\n",
      "Epoch 00012: val_loss did not improve from 0.24009\n",
      "2121/2121 [==============================] - 270s 127ms/step - loss: 0.0361 - mean_absolute_error: 0.1471 - val_loss: 0.2957 - val_mean_absolute_error: 0.4239\n",
      "Epoch 13/50\n",
      "2120/2121 [============================>.] - ETA: 0s - loss: 0.0328 - mean_absolute_error: 0.1392\n",
      "Epoch 00013: val_loss improved from 0.24009 to 0.23863, saving model to models/checkpoint_CNN2male\n",
      "INFO:tensorflow:Assets written to: models/checkpoint_CNN2male/assets\n",
      "2121/2121 [==============================] - 311s 147ms/step - loss: 0.0328 - mean_absolute_error: 0.1392 - val_loss: 0.2386 - val_mean_absolute_error: 0.3713\n",
      "Epoch 14/50\n",
      "2120/2121 [============================>.] - ETA: 0s - loss: 0.0284 - mean_absolute_error: 0.1300\n",
      "Epoch 00014: val_loss did not improve from 0.23863\n",
      "2121/2121 [==============================] - 270s 127ms/step - loss: 0.0284 - mean_absolute_error: 0.1300 - val_loss: 0.2602 - val_mean_absolute_error: 0.3851\n",
      "Epoch 15/50\n",
      "2120/2121 [============================>.] - ETA: 0s - loss: 0.0239 - mean_absolute_error: 0.1195\n",
      "Epoch 00015: val_loss did not improve from 0.23863\n",
      "2121/2121 [==============================] - 272s 128ms/step - loss: 0.0239 - mean_absolute_error: 0.1195 - val_loss: 0.2650 - val_mean_absolute_error: 0.4031\n",
      "Epoch 16/50\n",
      "2120/2121 [============================>.] - ETA: 0s - loss: 0.0263 - mean_absolute_error: 0.1238\n",
      "Epoch 00016: val_loss did not improve from 0.23863\n",
      "2121/2121 [==============================] - 271s 128ms/step - loss: 0.0263 - mean_absolute_error: 0.1238 - val_loss: 0.2840 - val_mean_absolute_error: 0.4087\n",
      "Epoch 17/50\n",
      "2120/2121 [============================>.] - ETA: 0s - loss: 0.0207 - mean_absolute_error: 0.1103\n",
      "Epoch 00017: val_loss did not improve from 0.23863\n",
      "2121/2121 [==============================] - 258s 122ms/step - loss: 0.0207 - mean_absolute_error: 0.1103 - val_loss: 0.2621 - val_mean_absolute_error: 0.3964\n",
      "Epoch 18/50\n",
      "2120/2121 [============================>.] - ETA: 0s - loss: 0.0196 - mean_absolute_error: 0.1076\n",
      "Epoch 00018: val_loss did not improve from 0.23863\n",
      "2121/2121 [==============================] - 260s 122ms/step - loss: 0.0196 - mean_absolute_error: 0.1076 - val_loss: 0.2689 - val_mean_absolute_error: 0.3853\n",
      "Epoch 19/50\n",
      "2120/2121 [============================>.] - ETA: 0s - loss: 0.0046 - mean_absolute_error: 0.0523\n",
      "Epoch 00019: val_loss did not improve from 0.23863\n",
      "2121/2121 [==============================] - 259s 122ms/step - loss: 0.0046 - mean_absolute_error: 0.0523 - val_loss: 0.2622 - val_mean_absolute_error: 0.3883\n",
      "Epoch 20/50\n",
      "2120/2121 [============================>.] - ETA: 0s - loss: 0.0028 - mean_absolute_error: 0.0414\n",
      "Epoch 00020: val_loss did not improve from 0.23863\n",
      "2121/2121 [==============================] - 259s 122ms/step - loss: 0.0028 - mean_absolute_error: 0.0414 - val_loss: 0.2614 - val_mean_absolute_error: 0.3925\n",
      "Epoch 21/50\n",
      "2120/2121 [============================>.] - ETA: 0s - loss: 0.0021 - mean_absolute_error: 0.0364\n",
      "Epoch 00021: val_loss did not improve from 0.23863\n",
      "2121/2121 [==============================] - 260s 123ms/step - loss: 0.0021 - mean_absolute_error: 0.0364 - val_loss: 0.2599 - val_mean_absolute_error: 0.3850\n"
     ]
    },
    {
     "name": "stdout",
     "output_type": "stream",
     "text": [
      "Epoch 22/50\n",
      "2120/2121 [============================>.] - ETA: 0s - loss: 0.0017 - mean_absolute_error: 0.0324\n",
      "Epoch 00022: val_loss did not improve from 0.23863\n",
      "2121/2121 [==============================] - 253s 119ms/step - loss: 0.0017 - mean_absolute_error: 0.0324 - val_loss: 0.2609 - val_mean_absolute_error: 0.3873\n",
      "Epoch 23/50\n",
      "2120/2121 [============================>.] - ETA: 0s - loss: 0.0014 - mean_absolute_error: 0.0297\n",
      "Epoch 00023: val_loss did not improve from 0.23863\n",
      "2121/2121 [==============================] - 253s 119ms/step - loss: 0.0014 - mean_absolute_error: 0.0297 - val_loss: 0.2556 - val_mean_absolute_error: 0.3844\n",
      "Epoch 24/50\n",
      "2120/2121 [============================>.] - ETA: 0s - loss: 7.9292e-04 - mean_absolute_error: 0.0222\n",
      "Epoch 00024: val_loss did not improve from 0.23863\n",
      "2121/2121 [==============================] - 254s 120ms/step - loss: 7.9310e-04 - mean_absolute_error: 0.0222 - val_loss: 0.2563 - val_mean_absolute_error: 0.3857\n",
      "Epoch 25/50\n",
      "2120/2121 [============================>.] - ETA: 0s - loss: 7.2414e-04 - mean_absolute_error: 0.0212\n",
      "Epoch 00025: val_loss did not improve from 0.23863\n",
      "2121/2121 [==============================] - 258s 122ms/step - loss: 7.2399e-04 - mean_absolute_error: 0.0212 - val_loss: 0.2551 - val_mean_absolute_error: 0.3859\n",
      "Epoch 26/50\n",
      "2120/2121 [============================>.] - ETA: 0s - loss: 6.9275e-04 - mean_absolute_error: 0.0208\n",
      "Epoch 00026: val_loss did not improve from 0.23863\n",
      "2121/2121 [==============================] - 259s 122ms/step - loss: 6.9273e-04 - mean_absolute_error: 0.0208 - val_loss: 0.2561 - val_mean_absolute_error: 0.3845\n",
      "Epoch 27/50\n",
      "2120/2121 [============================>.] - ETA: 0s - loss: 6.6723e-04 - mean_absolute_error: 0.0204\n",
      "Epoch 00027: val_loss did not improve from 0.23863\n",
      "2121/2121 [==============================] - 258s 122ms/step - loss: 6.6725e-04 - mean_absolute_error: 0.0204 - val_loss: 0.2557 - val_mean_absolute_error: 0.3855\n",
      "Epoch 28/50\n",
      "2120/2121 [============================>.] - ETA: 0s - loss: 6.4482e-04 - mean_absolute_error: 0.0201\n",
      "Epoch 00028: val_loss did not improve from 0.23863\n",
      "2121/2121 [==============================] - 259s 122ms/step - loss: 6.4487e-04 - mean_absolute_error: 0.0201 - val_loss: 0.2554 - val_mean_absolute_error: 0.3848\n",
      "Epoch 29/50\n",
      "2120/2121 [============================>.] - ETA: 0s - loss: 6.2226e-04 - mean_absolute_error: 0.0197\n",
      "Epoch 00029: val_loss did not improve from 0.23863\n",
      "2121/2121 [==============================] - 259s 122ms/step - loss: 6.2255e-04 - mean_absolute_error: 0.0197 - val_loss: 0.2549 - val_mean_absolute_error: 0.3852\n",
      "Epoch 30/50\n",
      "2120/2121 [============================>.] - ETA: 0s - loss: 6.0456e-04 - mean_absolute_error: 0.0194\n",
      "Epoch 00030: val_loss did not improve from 0.23863\n",
      "2121/2121 [==============================] - 260s 123ms/step - loss: 6.0450e-04 - mean_absolute_error: 0.0194 - val_loss: 0.2560 - val_mean_absolute_error: 0.3852\n",
      "Epoch 31/50\n",
      "2120/2121 [============================>.] - ETA: 0s - loss: 5.8461e-04 - mean_absolute_error: 0.0191\n",
      "Epoch 00031: val_loss did not improve from 0.23863\n",
      "2121/2121 [==============================] - 259s 122ms/step - loss: 5.8488e-04 - mean_absolute_error: 0.0191 - val_loss: 0.2544 - val_mean_absolute_error: 0.3854\n",
      "Epoch 32/50\n",
      "2120/2121 [============================>.] - ETA: 0s - loss: 5.6752e-04 - mean_absolute_error: 0.0188\n",
      "Epoch 00032: val_loss did not improve from 0.23863\n",
      "2121/2121 [==============================] - 260s 122ms/step - loss: 5.6745e-04 - mean_absolute_error: 0.0188 - val_loss: 0.2553 - val_mean_absolute_error: 0.3852\n",
      "Epoch 33/50\n",
      "2120/2121 [============================>.] - ETA: 0s - loss: 5.4924e-04 - mean_absolute_error: 0.0185\n",
      "Epoch 00033: val_loss did not improve from 0.23863\n",
      "2121/2121 [==============================] - 260s 122ms/step - loss: 5.4925e-04 - mean_absolute_error: 0.0185 - val_loss: 0.2554 - val_mean_absolute_error: 0.3843\n",
      "Epoch 00033: early stopping\n"
     ]
    }
   ],
   "source": [
    "from tensorflow.keras.callbacks import ReduceLROnPlateau,ModelCheckpoint,EarlyStopping\n",
    "\n",
    "rlr=ReduceLROnPlateau(monitor='val_loss', factor=0.1,\n",
    "                              patience=5, min_lr=0.00001, min_delta=0.001)\n",
    "ckpt=ModelCheckpoint('models/checkpoint_'+notebookname, monitor='val_loss', verbose=1, save_best_only=True, mode='min')\n",
    "es=EarlyStopping(monitor='val_loss', mode='min', verbose=1, patience=20, min_delta=0.0001)\n",
    "\n",
    "model.compile(optimizer=Adam(lr=0.001),\n",
    "                loss='mean_squared_error',\n",
    "                metrics=['mean_absolute_error'])\n",
    "\n",
    "# model fit call for all data\n",
    "# history=model.fit(train, train_label, batch_size=32,\n",
    "#                     steps_per_epoch=len(train) / 32, epochs=50)\n",
    "\n",
    "history=model.fit_generator(generator=train_generator,\n",
    "                           steps_per_epoch=STEP_SIZE_TRAIN,\n",
    "                           validation_data=valid_generator,\n",
    "                           validation_steps=STEP_SIZE_VALID,\n",
    "                           validation_freq=1,\n",
    "                           epochs=50,\n",
    "                           callbacks=[rlr,ckpt,es])\n",
    "# model fit call with validation\n",
    "#history=model.fit(X_train, y_train,validation_data=(X_val,y_val), batch_size=64,\n",
    "#                    steps_per_epoch=len(X_train) / 64,validation_steps=len(X_val)/64, epochs=50,callbacks=[rlr,ckpt,es])\n",
    "\n",
    "# save weights\n",
    "model.save_weights('models/'+notebookname+'.h5')\n",
    "\n"
   ]
  },
  {
   "cell_type": "code",
   "execution_count": 17,
   "metadata": {},
   "outputs": [
    {
     "name": "stdout",
     "output_type": "stream",
     "text": [
      "WARNING:tensorflow:From <ipython-input-17-e82515759ac2>:4: Model.predict_generator (from tensorflow.python.keras.engine.training) is deprecated and will be removed in a future version.\n",
      "Instructions for updating:\n",
      "Please use Model.predict, which supports generators.\n",
      "606/606 [==============================] - 21s 35ms/step\n"
     ]
    }
   ],
   "source": [
    "test_generator.reset()\n",
    "predictions=model.predict_generator(test_generator,\n",
    "                                    steps=STEP_SIZE_TEST,\n",
    "                                    verbose = 1)\n",
    "data = {'T1': testdf[str(genderindex[0])],\n",
    "        'T2': testdf[str(genderindex[1])],\n",
    "        'P1': predictions[:,0],\n",
    "        'P2': predictions[:,1]}\n",
    "df = pd.DataFrame(data)\n",
    "\n",
    "import csv\n",
    "\n",
    "df.to_csv('results/test_results_'+notebookname+'.csv')\n"
   ]
  },
  {
   "cell_type": "code",
   "execution_count": 18,
   "metadata": {},
   "outputs": [
    {
     "data": {
      "image/png": "[encoded data removed]",
      "text/plain": [
       "<Figure size 432x288 with 1 Axes>"
      ]
     },
     "metadata": {
      "needs_background": "light"
     },
     "output_type": "display_data"
    }
   ],
   "source": [
    "%matplotlib inline\n",
    "import matplotlib.pyplot as plt\n",
    "plt.plot(history.history['loss'])\n",
    "plt.plot(history.history['val_loss'])\n",
    "plt.title('Model accuracy'+notebookname)\n",
    "plt.ylabel('Accuracy')\n",
    "plt.xlabel('Epoch')\n",
    "plt.legend(['Train', 'Validation'], loc='upper right')\n",
    "plt.show()"
   ]
  },
  {
   "cell_type": "code",
   "execution_count": null,
   "metadata": {},
   "outputs": [],
   "source": []
  }
 ],
 "metadata": {
  "kernelspec": {
   "display_name": "Python 3",
   "language": "python",
   "name": "python3"
  },
  "language_info": {
   "codemirror_mode": {
    "name": "ipython",
    "version": 3
   },
   "file_extension": ".py",
   "mimetype": "text/x-python",
   "name": "python",
   "nbconvert_exporter": "python",
   "pygments_lexer": "ipython3",
   "version": "3.6.9"
  }
 },
 "nbformat": 4,
 "nbformat_minor": 4
}
